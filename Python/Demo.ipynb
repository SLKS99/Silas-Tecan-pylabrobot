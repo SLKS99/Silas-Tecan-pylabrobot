{
 "cells": [
  {
   "cell_type": "markdown",
   "metadata": {},
   "source": [
    "At first, we need to load the Python module."
   ]
  },
  {
   "cell_type": "code",
   "execution_count": 1,
   "metadata": {},
   "outputs": [],
   "source": [
    "from tecan import Fluent, DiTi, VariableContainer"
   ]
  },
  {
   "cell_type": "markdown",
   "metadata": {},
   "source": [
    "Next, we need to connect to the SiLA2 Server that controls FluentControl. \n",
    "**Please start the SiLA2 Server before you run the next line.**\n",
    "Further, you may have to adapt the IP address, in case you are not running the SiLA2 Server locally."
   ]
  },
  {
   "cell_type": "code",
   "execution_count": 2,
   "metadata": {
    "scrolled": true
   },
   "outputs": [
    {
     "name": "stderr",
     "output_type": "stream",
     "text": [
      "2021-03-24 08:47:18,440 Overwriting given hostname \"localhost\" with IP address \"192.168.178.23\" since IP takes precedence.\n",
      "2021-03-24 08:47:18,629 Starting SiLA2 service client for service SilaFluentController with service name: SilaFluentControllerClient\n",
      "2021-03-24 08:47:18,632 successfully connected to the server\n"
     ]
    }
   ],
   "source": [
    "f = Fluent('192.168.178.23', 50052)"
   ]
  },
  {
   "cell_type": "markdown",
   "metadata": {},
   "source": [
    "#### Inspecting the API\n",
    "You can inspect the methods available using the standard `dir` operator"
   ]
  },
  {
   "cell_type": "code",
   "execution_count": 3,
   "metadata": {},
   "outputs": [
    {
     "data": {
      "text/plain": [
       "['_Fluent__FORMAT',\n",
       " '_Fluent__client',\n",
       " '__class__',\n",
       " '__delattr__',\n",
       " '__dict__',\n",
       " '__dir__',\n",
       " '__doc__',\n",
       " '__eq__',\n",
       " '__format__',\n",
       " '__ge__',\n",
       " '__getattribute__',\n",
       " '__gt__',\n",
       " '__hash__',\n",
       " '__init__',\n",
       " '__init_subclass__',\n",
       " '__le__',\n",
       " '__lt__',\n",
       " '__module__',\n",
       " '__ne__',\n",
       " '__new__',\n",
       " '__reduce__',\n",
       " '__reduce_ex__',\n",
       " '__repr__',\n",
       " '__setattr__',\n",
       " '__sizeof__',\n",
       " '__str__',\n",
       " '__subclasshook__',\n",
       " '__weakref__',\n",
       " 'add_labware',\n",
       " 'aspirate',\n",
       " 'close_method',\n",
       " 'discover',\n",
       " 'dispense',\n",
       " 'drop_tips',\n",
       " 'finish_execution',\n",
       " 'get_all_runnable_methods',\n",
       " 'get_fingers',\n",
       " 'get_tips',\n",
       " 'get_variable_names',\n",
       " 'get_variable_value',\n",
       " 'pause_run',\n",
       " 'prepare_method',\n",
       " 'remove_labware',\n",
       " 'resume_run',\n",
       " 'run_method',\n",
       " 'set_location',\n",
       " 'set_variable_value',\n",
       " 'shutdown',\n",
       " 'start_fluent',\n",
       " 'stop_method',\n",
       " 'transfer_labware',\n",
       " 'transfer_labware_back_to_base',\n",
       " 'user_prompt']"
      ]
     },
     "execution_count": 3,
     "metadata": {},
     "output_type": "execute_result"
    }
   ],
   "source": [
    "dir(f)"
   ]
  },
  {
   "cell_type": "markdown",
   "metadata": {},
   "source": [
    "#### Starting FluentControl and starting methods\n",
    "Using start_fluent(), you can start FluentControl or connect with a running instance"
   ]
  },
  {
   "cell_type": "code",
   "execution_count": 4,
   "metadata": {
    "scrolled": true
   },
   "outputs": [
    {
     "name": "stderr",
     "output_type": "stream",
     "text": [
      "2021-03-24 08:47:52,232 starting Fluent...\n",
      "2021-03-24 08:47:52,372 started\n"
     ]
    }
   ],
   "source": [
    "f.start_fluent(simulation_mode=True)"
   ]
  },
  {
   "cell_type": "markdown",
   "metadata": {},
   "source": [
    "As soon as the connection is established, you can connect to it and list available methods or prepare a method for execution"
   ]
  },
  {
   "cell_type": "code",
   "execution_count": 5,
   "metadata": {},
   "outputs": [
    {
     "name": "stdout",
     "output_type": "stream",
     "text": [
      "['demo']\n"
     ]
    }
   ],
   "source": [
    "print(f.get_all_runnable_methods())"
   ]
  },
  {
   "cell_type": "code",
   "execution_count": 6,
   "metadata": {},
   "outputs": [
    {
     "name": "stderr",
     "output_type": "stream",
     "text": [
      "2021-03-24 08:48:16,849 method closed\n"
     ]
    }
   ],
   "source": [
    "f.close_method()"
   ]
  },
  {
   "cell_type": "markdown",
   "metadata": {},
   "source": [
    "For the remainder of this demo, you will need to have a method that opens an API channel. As an example, you can use the method from [here](https://gitlab.com/tecan/fluent-sila2-connector/uploads/de9771548ee81e77c64c1210a5cab1d7/demo_method.zeia)"
   ]
  },
  {
   "cell_type": "code",
   "execution_count": 7,
   "metadata": {
    "scrolled": true
   },
   "outputs": [
    {
     "name": "stderr",
     "output_type": "stream",
     "text": [
      "2021-03-24 08:48:49,718 preparing method...\n",
      "2021-03-24 08:48:49,878 method ready to run\n"
     ]
    }
   ],
   "source": [
    "f.prepare_method(\"demo\")"
   ]
  },
  {
   "cell_type": "markdown",
   "metadata": {},
   "source": [
    "Once you prepared a method, it is possible to list variable names and run the method."
   ]
  },
  {
   "cell_type": "code",
   "execution_count": 8,
   "metadata": {},
   "outputs": [
    {
     "name": "stdout",
     "output_type": "stream",
     "text": [
      "['not_a_test', 'test']\n"
     ]
    }
   ],
   "source": [
    "variable_names = f.get_variable_names()\n",
    "print(variable_names)"
   ]
  },
  {
   "cell_type": "code",
   "execution_count": 9,
   "metadata": {
    "scrolled": true
   },
   "outputs": [
    {
     "name": "stderr",
     "output_type": "stream",
     "text": [
      "2021-03-24 08:49:19,196 method running\n"
     ]
    }
   ],
   "source": [
    "f.run_method()"
   ]
  },
  {
   "cell_type": "markdown",
   "metadata": {},
   "source": [
    "#### Commands\n",
    "As soon as a method opens an API channel, it is possible to change the state of variables or issue commands.\n",
    "First, we demonstrate this by changing a variable value."
   ]
  },
  {
   "cell_type": "code",
   "execution_count": 10,
   "metadata": {},
   "outputs": [
    {
     "name": "stdout",
     "output_type": "stream",
     "text": [
      "test\n"
     ]
    }
   ],
   "source": [
    "value = f.get_variable_value('test')\n",
    "print(value)"
   ]
  },
  {
   "cell_type": "code",
   "execution_count": 11,
   "metadata": {},
   "outputs": [
    {
     "name": "stderr",
     "output_type": "stream",
     "text": [
      "2021-03-24 08:50:23,862 Value successfully set\n"
     ]
    }
   ],
   "source": [
    "f.set_variable_value('test', \"new test\")"
   ]
  },
  {
   "cell_type": "markdown",
   "metadata": {},
   "source": [
    "We double-check that the variable value has indeed changed."
   ]
  },
  {
   "cell_type": "code",
   "execution_count": 12,
   "metadata": {},
   "outputs": [
    {
     "name": "stdout",
     "output_type": "stream",
     "text": [
      "new test\n"
     ]
    }
   ],
   "source": [
    "value = f.get_variable_value('test')\n",
    "print(value)"
   ]
  },
  {
   "cell_type": "markdown",
   "metadata": {},
   "source": [
    "Next, lets add some labware and perform some liquid transfer operations."
   ]
  },
  {
   "cell_type": "code",
   "execution_count": 13,
   "metadata": {
    "scrolled": true
   },
   "outputs": [
    {
     "name": "stderr",
     "output_type": "stream",
     "text": [
      "2021-03-24 08:50:57,155 Labware added successfully\n"
     ]
    }
   ],
   "source": [
    "f.add_labware(\"48 Well Flat[001]\", \"48 Well Flat\", \"Nest61mm_Pos\", 1)"
   ]
  },
  {
   "cell_type": "markdown",
   "metadata": {},
   "source": [
    "You can use the standard `inspect` module to review the parameters and there is inline documentation available."
   ]
  },
  {
   "cell_type": "code",
   "execution_count": 15,
   "metadata": {},
   "outputs": [
    {
     "data": {
      "text/plain": [
       "<Signature (labware_name: str, labware_type: str, target_location: str, position=0, rotation=0, has_lid=False, barcode='')>"
      ]
     },
     "execution_count": 15,
     "metadata": {},
     "output_type": "execute_result"
    }
   ],
   "source": [
    "import inspect\n",
    "inspect.signature(f.add_labware)"
   ]
  },
  {
   "cell_type": "markdown",
   "metadata": {},
   "source": [
    "Next, we transfer this labware to a different location"
   ]
  },
  {
   "cell_type": "code",
   "execution_count": 16,
   "metadata": {
    "scrolled": false
   },
   "outputs": [
    {
     "name": "stderr",
     "output_type": "stream",
     "text": [
      "2021-03-24 08:52:14,921 transferring labware\n",
      "2021-03-24 08:52:18,693 labware successfully transferred\n"
     ]
    }
   ],
   "source": [
    "f.transfer_labware(\"48 Well Flat[001]\", \"Nest61mm_Pos\", 2)"
   ]
  },
  {
   "cell_type": "markdown",
   "metadata": {},
   "source": [
    "For disposable tips, there are collections of constants available, so you don't have to memorize the tip names."
   ]
  },
  {
   "cell_type": "code",
   "execution_count": 18,
   "metadata": {},
   "outputs": [
    {
     "name": "stderr",
     "output_type": "stream",
     "text": [
      "2021-03-24 08:52:49,201 executing...\n",
      "2021-03-24 08:52:56,266 done\n"
     ]
    }
   ],
   "source": [
    "f.get_tips(10, 70, DiTi.FCA_200_UL_FILTERED_SBS)"
   ]
  },
  {
   "cell_type": "markdown",
   "metadata": {},
   "source": [
    "Of course, you can also issue commands to aspirate or dispense liquids directly."
   ]
  },
  {
   "cell_type": "code",
   "execution_count": 19,
   "metadata": {},
   "outputs": [
    {
     "name": "stderr",
     "output_type": "stream",
     "text": [
      "2021-03-24 08:53:28,318 aspirating...\n",
      "2021-03-24 08:53:37,533 finished aspirating\n"
     ]
    }
   ],
   "source": [
    "f.aspirate(42, \"100ml_3\", \"Water Free Single\", 0)"
   ]
  },
  {
   "cell_type": "code",
   "execution_count": 20,
   "metadata": {},
   "outputs": [
    {
     "name": "stderr",
     "output_type": "stream",
     "text": [
      "2021-03-24 08:53:45,332 dispensing...\n",
      "2021-03-24 08:53:48,031 finished dispensing\n"
     ]
    }
   ],
   "source": [
    "f.dispense(23, \"96 Well Round[002]\", \"Water Free Single\", 0)"
   ]
  },
  {
   "cell_type": "markdown",
   "metadata": {},
   "source": [
    "Finally, don't forget to drop the tips."
   ]
  },
  {
   "cell_type": "code",
   "execution_count": 21,
   "metadata": {},
   "outputs": [
    {
     "name": "stderr",
     "output_type": "stream",
     "text": [
      "2021-03-24 08:53:58,318 dropping tips...\n",
      "2021-03-24 08:54:02,169 dropped\n"
     ]
    }
   ],
   "source": [
    "f.drop_tips(\"FCA Thru Deck Waste Chute_1\")"
   ]
  },
  {
   "cell_type": "markdown",
   "metadata": {},
   "source": [
    "#### Cleanup\n",
    "At the end, you can cleanly finish execution."
   ]
  },
  {
   "cell_type": "code",
   "execution_count": 22,
   "metadata": {
    "scrolled": true
   },
   "outputs": [
    {
     "name": "stderr",
     "output_type": "stream",
     "text": [
      "2021-03-24 08:54:21,661 successfully finished execution.\n"
     ]
    }
   ],
   "source": [
    "f.finish_execution()"
   ]
  },
  {
   "cell_type": "code",
   "execution_count": 23,
   "metadata": {},
   "outputs": [],
   "source": [
    "f.shutdown(1)"
   ]
  },
  {
   "cell_type": "code",
   "execution_count": null,
   "metadata": {},
   "outputs": [],
   "source": []
  }
 ],
 "metadata": {
  "kernelspec": {
   "display_name": "Python 3",
   "language": "python",
   "name": "python3"
  },
  "language_info": {
   "codemirror_mode": {
    "name": "ipython",
    "version": 3
   },
   "file_extension": ".py",
   "mimetype": "text/x-python",
   "name": "python",
   "nbconvert_exporter": "python",
   "pygments_lexer": "ipython3",
   "version": "3.7.4"
  }
 },
 "nbformat": 4,
 "nbformat_minor": 2
}
